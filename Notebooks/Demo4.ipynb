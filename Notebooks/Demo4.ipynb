{
 "cells": [
  {
   "cell_type": "markdown",
   "id": "b64cb4f2-1e0a-42d8-b64c-98b400e95338",
   "metadata": {},
   "source": [
    "# Supervised learning with scikit-learn"
   ]
  },
  {
   "cell_type": "code",
   "execution_count": 1,
   "id": "86285345-37cc-4cfb-b1ac-f20d09f38e6a",
   "metadata": {},
   "outputs": [],
   "source": [
    "import numpy as np\n",
    "import pandas as pd"
   ]
  },
  {
   "cell_type": "markdown",
   "id": "f237c7e9-d49e-4834-9932-51e1facd25f3",
   "metadata": {},
   "source": [
    "### Classification"
   ]
  },
  {
   "cell_type": "code",
   "execution_count": 11,
   "id": "7e888665-b303-4cac-abf0-eee05ef86471",
   "metadata": {},
   "outputs": [],
   "source": [
    "df_classification = pd.read_json('classification.json')"
   ]
  },
  {
   "cell_type": "code",
   "execution_count": 12,
   "id": "7012a89c-8750-43a1-b92f-7c4603a37469",
   "metadata": {},
   "outputs": [
    {
     "data": {
      "text/html": [
       "<div>\n",
       "<style scoped>\n",
       "    .dataframe tbody tr th:only-of-type {\n",
       "        vertical-align: middle;\n",
       "    }\n",
       "\n",
       "    .dataframe tbody tr th {\n",
       "        vertical-align: top;\n",
       "    }\n",
       "\n",
       "    .dataframe thead th {\n",
       "        text-align: right;\n",
       "    }\n",
       "</style>\n",
       "<table border=\"1\" class=\"dataframe\">\n",
       "  <thead>\n",
       "    <tr style=\"text-align: right;\">\n",
       "      <th></th>\n",
       "      <th>Pregnancies</th>\n",
       "      <th>Glucose</th>\n",
       "      <th>BloodPressure</th>\n",
       "      <th>SkinThickness</th>\n",
       "      <th>Insulin</th>\n",
       "      <th>BMI</th>\n",
       "      <th>DiabetesPedigreeFunction</th>\n",
       "      <th>Age</th>\n",
       "      <th>Outcome</th>\n",
       "    </tr>\n",
       "  </thead>\n",
       "  <tbody>\n",
       "    <tr>\n",
       "      <th>0</th>\n",
       "      <td>6</td>\n",
       "      <td>148</td>\n",
       "      <td>72</td>\n",
       "      <td>35</td>\n",
       "      <td>0</td>\n",
       "      <td>33.6</td>\n",
       "      <td>0.627</td>\n",
       "      <td>50</td>\n",
       "      <td>1</td>\n",
       "    </tr>\n",
       "    <tr>\n",
       "      <th>1</th>\n",
       "      <td>1</td>\n",
       "      <td>85</td>\n",
       "      <td>66</td>\n",
       "      <td>29</td>\n",
       "      <td>0</td>\n",
       "      <td>26.6</td>\n",
       "      <td>0.351</td>\n",
       "      <td>31</td>\n",
       "      <td>0</td>\n",
       "    </tr>\n",
       "    <tr>\n",
       "      <th>2</th>\n",
       "      <td>8</td>\n",
       "      <td>183</td>\n",
       "      <td>64</td>\n",
       "      <td>0</td>\n",
       "      <td>0</td>\n",
       "      <td>23.3</td>\n",
       "      <td>0.672</td>\n",
       "      <td>32</td>\n",
       "      <td>1</td>\n",
       "    </tr>\n",
       "    <tr>\n",
       "      <th>3</th>\n",
       "      <td>1</td>\n",
       "      <td>89</td>\n",
       "      <td>66</td>\n",
       "      <td>23</td>\n",
       "      <td>94</td>\n",
       "      <td>28.1</td>\n",
       "      <td>0.167</td>\n",
       "      <td>21</td>\n",
       "      <td>0</td>\n",
       "    </tr>\n",
       "    <tr>\n",
       "      <th>4</th>\n",
       "      <td>0</td>\n",
       "      <td>137</td>\n",
       "      <td>40</td>\n",
       "      <td>35</td>\n",
       "      <td>168</td>\n",
       "      <td>43.1</td>\n",
       "      <td>2.288</td>\n",
       "      <td>33</td>\n",
       "      <td>1</td>\n",
       "    </tr>\n",
       "  </tbody>\n",
       "</table>\n",
       "</div>"
      ],
      "text/plain": [
       "   Pregnancies  Glucose  BloodPressure  SkinThickness  Insulin   BMI  \\\n",
       "0            6      148             72             35        0  33.6   \n",
       "1            1       85             66             29        0  26.6   \n",
       "2            8      183             64              0        0  23.3   \n",
       "3            1       89             66             23       94  28.1   \n",
       "4            0      137             40             35      168  43.1   \n",
       "\n",
       "   DiabetesPedigreeFunction  Age  Outcome  \n",
       "0                     0.627   50        1  \n",
       "1                     0.351   31        0  \n",
       "2                     0.672   32        1  \n",
       "3                     0.167   21        0  \n",
       "4                     2.288   33        1  "
      ]
     },
     "execution_count": 12,
     "metadata": {},
     "output_type": "execute_result"
    }
   ],
   "source": [
    "df_classification.head()"
   ]
  },
  {
   "cell_type": "code",
   "execution_count": 13,
   "id": "c1fd0475-89b5-4625-8c0a-d4e1b543f9a8",
   "metadata": {},
   "outputs": [
    {
     "name": "stdout",
     "output_type": "stream",
     "text": [
      "<class 'pandas.core.frame.DataFrame'>\n",
      "Int64Index: 768 entries, 0 to 767\n",
      "Data columns (total 9 columns):\n",
      " #   Column                    Non-Null Count  Dtype  \n",
      "---  ------                    --------------  -----  \n",
      " 0   Pregnancies               768 non-null    int64  \n",
      " 1   Glucose                   768 non-null    int64  \n",
      " 2   BloodPressure             768 non-null    int64  \n",
      " 3   SkinThickness             768 non-null    int64  \n",
      " 4   Insulin                   768 non-null    int64  \n",
      " 5   BMI                       768 non-null    float64\n",
      " 6   DiabetesPedigreeFunction  768 non-null    float64\n",
      " 7   Age                       768 non-null    int64  \n",
      " 8   Outcome                   768 non-null    int64  \n",
      "dtypes: float64(2), int64(7)\n",
      "memory usage: 60.0 KB\n"
     ]
    }
   ],
   "source": [
    "df_classification.info()"
   ]
  },
  {
   "cell_type": "code",
   "execution_count": 25,
   "id": "d82c4e91-af9e-451e-9d55-b1774895b511",
   "metadata": {},
   "outputs": [
    {
     "data": {
      "text/plain": [
       "Outcome\n",
       "0    500\n",
       "1    268\n",
       "dtype: int64"
      ]
     },
     "execution_count": 25,
     "metadata": {},
     "output_type": "execute_result"
    }
   ],
   "source": [
    "df_classification.groupby('Outcome').size()"
   ]
  },
  {
   "cell_type": "markdown",
   "id": "9ea1d116-c499-4fc9-bfcb-531611925aa2",
   "metadata": {},
   "source": [
    "### Separate features and labels"
   ]
  },
  {
   "cell_type": "code",
   "execution_count": 16,
   "id": "5d859a3c-425c-4bee-8703-bd467b983949",
   "metadata": {},
   "outputs": [],
   "source": [
    "X = df_classification.drop('Outcome', axis=1)\n",
    "y = df_classification['Outcome'].values"
   ]
  },
  {
   "cell_type": "markdown",
   "id": "b72c3e41-635b-44e2-8b40-ffa2b8629bd2",
   "metadata": {},
   "source": [
    "### Split dataset"
   ]
  },
  {
   "cell_type": "code",
   "execution_count": 20,
   "id": "ef7ead7e-6f57-410a-a68a-6dde8382b062",
   "metadata": {},
   "outputs": [],
   "source": [
    "from sklearn.model_selection import train_test_split"
   ]
  },
  {
   "cell_type": "code",
   "execution_count": 21,
   "id": "10530177-74df-4a86-a046-7e55b28d8c67",
   "metadata": {},
   "outputs": [],
   "source": [
    "X_train, X_test, y_train, y_test = train_test_split(X, y, test_size=0.2)"
   ]
  },
  {
   "cell_type": "markdown",
   "id": "9f64adf7-23d3-491e-9bbe-5fb93adba79f",
   "metadata": {},
   "source": [
    "### Feature scaling"
   ]
  },
  {
   "cell_type": "code",
   "execution_count": 26,
   "id": "8d129751-c30a-4c0e-9a98-d8f675725592",
   "metadata": {},
   "outputs": [],
   "source": [
    "from sklearn.preprocessing import StandardScaler\n",
    "\n",
    "scaler = StandardScaler()\n",
    "scaler.fit(X_train)\n",
    "X_train = pd.DataFrame(scaler.transform(X_train))"
   ]
  },
  {
   "cell_type": "code",
   "execution_count": 27,
   "id": "9d73d0b5-1d34-467b-af5e-6c8e9604b953",
   "metadata": {},
   "outputs": [],
   "source": [
    "X_test = pd.DataFrame(scaler.transform(X_test))"
   ]
  },
  {
   "cell_type": "markdown",
   "id": "84c35b2a-d09f-4d93-9608-5f7ec658ee35",
   "metadata": {},
   "source": [
    "### Create logistic regression model"
   ]
  },
  {
   "cell_type": "code",
   "execution_count": 59,
   "id": "befb47d3-1b41-468b-a0d9-f5086587c5b0",
   "metadata": {},
   "outputs": [],
   "source": [
    "from sklearn.linear_model import LogisticRegression\n",
    "from sklearn.svm import SVC"
   ]
  },
  {
   "cell_type": "code",
   "execution_count": 60,
   "id": "cb2e84b0-de7c-4139-8c7a-2e3d48f4929c",
   "metadata": {},
   "outputs": [],
   "source": [
    "model = LogisticRegression()\n",
    "model_2 = SVC()"
   ]
  },
  {
   "cell_type": "markdown",
   "id": "0ed88af4-03f3-43a0-8529-60f6d14aa5c0",
   "metadata": {},
   "source": [
    "### Train the model"
   ]
  },
  {
   "cell_type": "code",
   "execution_count": 61,
   "id": "1bb6759d-d54c-4f4b-a770-bdddfa50deb1",
   "metadata": {},
   "outputs": [
    {
     "data": {
      "text/plain": [
       "SVC()"
      ]
     },
     "execution_count": 61,
     "metadata": {},
     "output_type": "execute_result"
    }
   ],
   "source": [
    "model.fit(X_train, y_train)\n",
    "model_2.fit(X_train, y_train)"
   ]
  },
  {
   "cell_type": "code",
   "execution_count": 62,
   "id": "f162e0ed-ab11-486d-ab4d-4f539bde372e",
   "metadata": {},
   "outputs": [],
   "source": [
    "train_pred_lr = model.predict(X_train)\n",
    "test_pred_lr = model.predict(X_test)\n",
    "\n",
    "train_pred_svm = model_2.predict(X_train)\n",
    "test_pred_svm = model_2.predict(X_test)"
   ]
  },
  {
   "cell_type": "markdown",
   "id": "b6123045-9334-42ff-8716-ccc77696f41d",
   "metadata": {},
   "source": [
    "### Evaluate the trained model"
   ]
  },
  {
   "cell_type": "code",
   "execution_count": 63,
   "id": "4868c57a-d58d-44d0-86af-a1dbaeae95ce",
   "metadata": {},
   "outputs": [
    {
     "name": "stdout",
     "output_type": "stream",
     "text": [
      "Training Accuracy: 0.7785016286644951\n",
      "Validation Accuracy: 0.7467532467532467\n"
     ]
    }
   ],
   "source": [
    "from sklearn.metrics import accuracy_score\n",
    "\n",
    "acc_train = accuracy_score(y_train, train_pred_lr)\n",
    "print(f\"Training Accuracy: {acc_train}\")\n",
    "\n",
    "acc_test = accuracy_score(y_test, test_pred_lr)\n",
    "print(f\"Validation Accuracy: {acc_test}\")"
   ]
  },
  {
   "cell_type": "code",
   "execution_count": 65,
   "id": "980e8fa7-6484-4cf1-95d7-2b0b6fb9b323",
   "metadata": {},
   "outputs": [
    {
     "name": "stdout",
     "output_type": "stream",
     "text": [
      "Training Accuracy: 0.8469055374592834\n",
      "Validation Accuracy: 0.7142857142857143\n"
     ]
    }
   ],
   "source": [
    "acc_train = accuracy_score(y_train, train_pred_svm)\n",
    "print(f\"Training Accuracy: {acc_train}\")\n",
    "\n",
    "acc_test = accuracy_score(y_test, test_pred_svm)\n",
    "print(f\"Validation Accuracy: {acc_test}\")"
   ]
  },
  {
   "cell_type": "markdown",
   "id": "c0273aa3-5d1a-41c6-9150-6565a864687b",
   "metadata": {},
   "source": [
    "### Classification report"
   ]
  },
  {
   "cell_type": "code",
   "execution_count": 72,
   "id": "ce1d54ec-7e07-44d6-9578-0cb7c5330f87",
   "metadata": {},
   "outputs": [
    {
     "name": "stdout",
     "output_type": "stream",
     "text": [
      "              precision    recall  f1-score   support\n",
      "\n",
      "           0       0.73      0.89      0.80        88\n",
      "           1       0.79      0.56      0.65        66\n",
      "\n",
      "    accuracy                           0.75       154\n",
      "   macro avg       0.76      0.72      0.73       154\n",
      "weighted avg       0.75      0.75      0.74       154\n",
      "\n",
      "              precision    recall  f1-score   support\n",
      "\n",
      "           0       0.69      0.91      0.78        88\n",
      "           1       0.79      0.45      0.58        66\n",
      "\n",
      "    accuracy                           0.71       154\n",
      "   macro avg       0.74      0.68      0.68       154\n",
      "weighted avg       0.73      0.71      0.70       154\n",
      "\n"
     ]
    }
   ],
   "source": [
    "from sklearn.metrics import classification_report\n",
    "\n",
    "print(classification_report(y_test, test_pred_lr))\n",
    "print(classification_report(y_test, test_pred_svm))"
   ]
  },
  {
   "cell_type": "code",
   "execution_count": 56,
   "id": "b46721d3-2705-4542-8cc5-6916a428cfa1",
   "metadata": {},
   "outputs": [
    {
     "name": "stdout",
     "output_type": "stream",
     "text": [
      "Features and the Importance Score:\n"
     ]
    },
    {
     "data": {
      "text/plain": [
       "<AxesSubplot:>"
      ]
     },
     "execution_count": 56,
     "metadata": {},
     "output_type": "execute_result"
    },
    {
     "data": {
      "image/png": "[encoded data removed]",
      "text/plain": [
       "<Figure size 432x288 with 1 Axes>"
      ]
     },
     "metadata": {
      "needs_background": "light"
     },
     "output_type": "display_data"
    }
   ],
   "source": [
    "# To Import Class ExtraTreesClassifier\n",
    "from sklearn.ensemble import ExtraTreesClassifier\n",
    "\n",
    "# For the List of Features\n",
    "features = list(X.columns)\n",
    "#print('List of Features:')\n",
    "#print(features)\n",
    "#print('')\n",
    "\n",
    "# To Perform Feature Importance with Extra Trees Classifier\n",
    "model = ExtraTreesClassifier()\n",
    "model.fit(X, y)\n",
    "\n",
    "# To Show the Results of Feature Importance\n",
    "importance = model.feature_importances_\n",
    "#print('Importance Score: %s' % importance)\n",
    "#print('')\n",
    "\n",
    "print('Features and the Importance Score:')\n",
    "list(zip(features, importance))\n",
    "\n",
    "feat_importances1 = pd.Series(importance, index=features)\n",
    "feat_importances1 = feat_importances1.nlargest(8)\n",
    "feat_importances1.plot(kind='barh')"
   ]
  },
  {
   "cell_type": "code",
   "execution_count": 85,
   "id": "871e0c5d-d142-40b3-8297-78895c4d41e9",
   "metadata": {},
   "outputs": [],
   "source": [
    "import shap"
   ]
  },
  {
   "cell_type": "code",
   "execution_count": 90,
   "id": "68526233-2663-4b64-846b-9fdc579687f2",
   "metadata": {},
   "outputs": [],
   "source": [
    "explainer = shap.Explainer(model, X_train, feature_names=X.columns)\n",
    "shap_values = explainer(X_test)"
   ]
  },
  {
   "cell_type": "code",
   "execution_count": 91,
   "id": "4c41b51c-34db-4a74-bd88-29635e3b47c4",
   "metadata": {},
   "outputs": [
    {
     "data": {
      "text/plain": [
       "Index(['Pregnancies', 'Glucose', 'BloodPressure', 'SkinThickness', 'Insulin',\n",
       "       'BMI', 'DiabetesPedigreeFunction', 'Age'],\n",
       "      dtype='object')"
      ]
     },
     "execution_count": 91,
     "metadata": {},
     "output_type": "execute_result"
    }
   ],
   "source": [
    "X.columns"
   ]
  },
  {
   "cell_type": "code",
   "execution_count": 100,
   "id": "6f8d7aa6-efb7-405a-ad02-98af950b1beb",
   "metadata": {},
   "outputs": [
    {
     "data": {
      "image/png": "[encoded data removed]",
      "text/plain": [
       "<Figure size 576x338.4 with 2 Axes>"
      ]
     },
     "metadata": {
      "needs_background": "light"
     },
     "output_type": "display_data"
    }
   ],
   "source": [
    "shap.plots.beeswarm(shap_values)"
   ]
  },
  {
   "cell_type": "code",
   "execution_count": 106,
   "id": "99e867e9-d24c-4f29-a413-6aa57f3f1aee",
   "metadata": {},
   "outputs": [
    {
     "data": {
      "text/plain": [
       "0                 Pregnancies\n",
       "1                     Glucose\n",
       "2               BloodPressure\n",
       "3               SkinThickness\n",
       "4                     Insulin\n",
       "5                         BMI\n",
       "6    DiabetesPedigreeFunction\n",
       "7                         Age\n",
       "dtype: object"
      ]
     },
     "execution_count": 106,
     "metadata": {},
     "output_type": "execute_result"
    }
   ],
   "source": [
    "pd.Series(X.columns)"
   ]
  },
  {
   "cell_type": "code",
   "execution_count": 108,
   "id": "882bad45-35eb-4ada-a549-8541061ed9a0",
   "metadata": {},
   "outputs": [
    {
     "data": {
      "text/plain": [
       "1        Glucose\n",
       "5            BMI\n",
       "0    Pregnancies\n",
       "7            Age\n",
       "dtype: object"
      ]
     },
     "execution_count": 108,
     "metadata": {},
     "output_type": "execute_result"
    }
   ],
   "source": [
    "pd.Series(X.columns)[[1, 5, 0, 7]]"
   ]
  },
  {
   "cell_type": "code",
   "execution_count": null,
   "id": "52eea305-4e21-4ebf-9368-324d8bbe3197",
   "metadata": {},
   "outputs": [],
   "source": []
  }
 ],
 "metadata": {
  "kernelspec": {
   "display_name": "Python 3",
   "language": "python",
   "name": "python3"
  },
  "language_info": {
   "codemirror_mode": {
    "name": "ipython",
    "version": 3
   },
   "file_extension": ".py",
   "mimetype": "text/x-python",
   "name": "python",
   "nbconvert_exporter": "python",
   "pygments_lexer": "ipython3",
   "version": "3.8.8"
  }
 },
 "nbformat": 4,
 "nbformat_minor": 5
}
