{
 "cells": [
  {
   "cell_type": "markdown",
   "id": "1aae6a8f-9177-4171-8a54-9ac3610e35da",
   "metadata": {},
   "source": [
    "# Getting data from API using requests library"
   ]
  },
  {
   "cell_type": "markdown",
   "id": "4a6cec99-dd98-4b48-b7cb-65762d0c297a",
   "metadata": {},
   "source": [
    "### Import libraries"
   ]
  },
  {
   "cell_type": "code",
   "execution_count": 1,
   "id": "5f37c946-bd5d-4a3f-b550-ab154735cceb",
   "metadata": {},
   "outputs": [],
   "source": [
    "# if you don't have this library installed yet, use this command: pip install requests\n",
    "import requests"
   ]
  },
  {
   "cell_type": "markdown",
   "id": "8f50d372-fc60-435d-b65f-bbe41a420547",
   "metadata": {},
   "source": [
    "### Save URL as string"
   ]
  },
  {
   "cell_type": "code",
   "execution_count": 2,
   "id": "6fbbc34f-4e13-42a8-bb1f-021ca7e71ffd",
   "metadata": {},
   "outputs": [],
   "source": [
    "# you can change this string to any URL you want to access. for localhost, use http://127.0.0.1:8000/\n",
    "url = 'https://iecep-data-repo.herokuapp.com/'"
   ]
  },
  {
   "cell_type": "markdown",
   "id": "46bf766b-2641-4c67-9fff-5e2e3c8330c3",
   "metadata": {},
   "source": [
    "### Get data from API"
   ]
  },
  {
   "cell_type": "code",
   "execution_count": 3,
   "id": "8a7ef98b-f2c9-4160-8ab2-ac8fb31db5ab",
   "metadata": {},
   "outputs": [],
   "source": [
    "# get data from the URL and store it in a variable\n",
    "response_data = requests.get(url)"
   ]
  },
  {
   "cell_type": "code",
   "execution_count": 4,
   "id": "e9ba1d4e-2c7b-4cf6-860b-487f01c9454b",
   "metadata": {},
   "outputs": [
    {
     "data": {
      "text/plain": [
       "<Response [200]>"
      ]
     },
     "execution_count": 4,
     "metadata": {},
     "output_type": "execute_result"
    }
   ],
   "source": [
    "# <Response [200]> indicates that the API call was successful\n",
    "response_data"
   ]
  },
  {
   "cell_type": "markdown",
   "id": "c18f6724-d033-487c-bcd3-a426f0d03a00",
   "metadata": {},
   "source": [
    "### View response as JSON"
   ]
  },
  {
   "cell_type": "code",
   "execution_count": 5,
   "id": "a7c7f7cc-2d44-49b7-95e0-f494022fc21e",
   "metadata": {},
   "outputs": [
    {
     "data": {
      "text/plain": [
       "{'Message': 'Hello IECEP!'}"
      ]
     },
     "execution_count": 5,
     "metadata": {},
     "output_type": "execute_result"
    }
   ],
   "source": [
    "# convert you response data to JSON. you may also convert it to raw text using the .text() method\n",
    "response_data.json()"
   ]
  },
  {
   "cell_type": "code",
   "execution_count": 8,
   "id": "ba1f32a2-69e7-4bfb-b188-fc29562405b4",
   "metadata": {},
   "outputs": [],
   "source": [
    "# let's try to access a different endpoint from our API\n",
    "url2 = 'https://iecep-data-repo.herokuapp.com/classification'"
   ]
  },
  {
   "cell_type": "code",
   "execution_count": 11,
   "id": "346fdaeb-034b-4d1c-9e18-7950e23d0b32",
   "metadata": {},
   "outputs": [
    {
     "data": {
      "text/plain": [
       "<Response [200]>"
      ]
     },
     "execution_count": 11,
     "metadata": {},
     "output_type": "execute_result"
    }
   ],
   "source": [
    "# same as above, use the .get(<URL>) method and store it in a variable\n",
    "classification_data = requests.get(url2)\n",
    "classification_data"
   ]
  },
  {
   "cell_type": "markdown",
   "id": "df0a77c3-1db6-42fe-bc3b-03b33c6de91f",
   "metadata": {},
   "source": [
    "### Export data as JSON"
   ]
  },
  {
   "cell_type": "code",
   "execution_count": 12,
   "id": "c74262e9-8050-4850-a610-272057bbd19e",
   "metadata": {},
   "outputs": [],
   "source": [
    "# finally, convert it to JSON\n",
    "classification_raw = classification_data.json()"
   ]
  },
  {
   "cell_type": "code",
   "execution_count": 13,
   "id": "83f041d4-6070-41a3-879d-de3eff4c372a",
   "metadata": {},
   "outputs": [],
   "source": [
    "url3 = 'https://iecep-data-repo.herokuapp.com/regression'"
   ]
  },
  {
   "cell_type": "code",
   "execution_count": 14,
   "id": "d98557bd-bee7-4403-8829-2155d8338ce2",
   "metadata": {},
   "outputs": [
    {
     "data": {
      "text/plain": [
       "<Response [200]>"
      ]
     },
     "execution_count": 14,
     "metadata": {},
     "output_type": "execute_result"
    }
   ],
   "source": [
    "regression_data = requests.get(url3)\n",
    "regression_data"
   ]
  },
  {
   "cell_type": "code",
   "execution_count": 15,
   "id": "adb2d082-ab89-48e1-8e4a-4eae251573ed",
   "metadata": {},
   "outputs": [],
   "source": [
    "regression_raw = regression_data.json()"
   ]
  },
  {
   "cell_type": "code",
   "execution_count": 17,
   "id": "dad78d26-4068-406b-aec4-1c40bd1e468b",
   "metadata": {},
   "outputs": [],
   "source": [
    "url4 = 'https://iecep-data-repo.herokuapp.com/cleaning'"
   ]
  },
  {
   "cell_type": "code",
   "execution_count": 18,
   "id": "22a92d0e-0e15-42f5-bc03-805f515fcc13",
   "metadata": {},
   "outputs": [
    {
     "data": {
      "text/plain": [
       "<Response [200]>"
      ]
     },
     "execution_count": 18,
     "metadata": {},
     "output_type": "execute_result"
    }
   ],
   "source": [
    "cleaning_data = requests.get(url4)\n",
    "cleaning_data"
   ]
  },
  {
   "cell_type": "code",
   "execution_count": 19,
   "id": "39c7ffc4-2993-42bf-9d0f-5bac3bc53b65",
   "metadata": {},
   "outputs": [],
   "source": [
    "cleaning_raw = cleaning_data.json()"
   ]
  },
  {
   "cell_type": "code",
   "execution_count": 20,
   "id": "294f5a8a-053e-4d49-882a-e71b1e497ca1",
   "metadata": {},
   "outputs": [],
   "source": [
    "import json"
   ]
  },
  {
   "cell_type": "code",
   "execution_count": 24,
   "id": "149fd059-2adb-4625-8d69-ab24157e6bf9",
   "metadata": {},
   "outputs": [],
   "source": [
    "with open('cleaning.json', 'w') as json_file:\n",
    "    json.dump(cleaning_raw, json_file)\n",
    "\n",
    "json_file.close()"
   ]
  },
  {
   "cell_type": "code",
   "execution_count": null,
   "id": "e3a28a2d-c8fb-4753-bb06-cedd538ee68a",
   "metadata": {},
   "outputs": [],
   "source": []
  }
 ],
 "metadata": {
  "kernelspec": {
   "display_name": "Python 3",
   "language": "python",
   "name": "python3"
  },
  "language_info": {
   "codemirror_mode": {
    "name": "ipython",
    "version": 3
   },
   "file_extension": ".py",
   "mimetype": "text/x-python",
   "name": "python",
   "nbconvert_exporter": "python",
   "pygments_lexer": "ipython3",
   "version": "3.8.8"
  }
 },
 "nbformat": 4,
 "nbformat_minor": 5
}
