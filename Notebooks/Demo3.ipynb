{
 "cells": [
  {
   "cell_type": "markdown",
   "id": "25fbc0f0-a352-49b3-b29f-7f7b6e2f8205",
   "metadata": {},
   "source": [
    "# Cleansing data using numpy and pandas"
   ]
  },
  {
   "cell_type": "code",
   "execution_count": 1,
   "id": "b578db76-88e4-460d-a02a-6259c09c3a3a",
   "metadata": {},
   "outputs": [],
   "source": [
    "import numpy as np\n",
    "import pandas as pd"
   ]
  },
  {
   "cell_type": "code",
   "execution_count": 2,
   "id": "404ed831-ee88-4744-a1bd-1980fc3872ac",
   "metadata": {},
   "outputs": [],
   "source": [
    "df_cleaning = pd.read_csv('data/Data.csv')"
   ]
  },
  {
   "cell_type": "code",
   "execution_count": 3,
   "id": "56a83326-7972-4fee-a52d-9b2861c685f6",
   "metadata": {},
   "outputs": [
    {
     "data": {
      "text/html": [
       "<div>\n",
       "<style scoped>\n",
       "    .dataframe tbody tr th:only-of-type {\n",
       "        vertical-align: middle;\n",
       "    }\n",
       "\n",
       "    .dataframe tbody tr th {\n",
       "        vertical-align: top;\n",
       "    }\n",
       "\n",
       "    .dataframe thead th {\n",
       "        text-align: right;\n",
       "    }\n",
       "</style>\n",
       "<table border=\"1\" class=\"dataframe\">\n",
       "  <thead>\n",
       "    <tr style=\"text-align: right;\">\n",
       "      <th></th>\n",
       "      <th>Country</th>\n",
       "      <th>Age</th>\n",
       "      <th>Salry</th>\n",
       "      <th>Purchased</th>\n",
       "    </tr>\n",
       "  </thead>\n",
       "  <tbody>\n",
       "    <tr>\n",
       "      <th>0</th>\n",
       "      <td>France</td>\n",
       "      <td>44.0</td>\n",
       "      <td>'72000'</td>\n",
       "      <td>No</td>\n",
       "    </tr>\n",
       "    <tr>\n",
       "      <th>1</th>\n",
       "      <td>Spain</td>\n",
       "      <td>27.0</td>\n",
       "      <td>'48000'</td>\n",
       "      <td>Yes</td>\n",
       "    </tr>\n",
       "    <tr>\n",
       "      <th>2</th>\n",
       "      <td>Germany</td>\n",
       "      <td>30.0</td>\n",
       "      <td>'54000'</td>\n",
       "      <td>No</td>\n",
       "    </tr>\n",
       "    <tr>\n",
       "      <th>3</th>\n",
       "      <td>Spain</td>\n",
       "      <td>38.0</td>\n",
       "      <td>'61000'</td>\n",
       "      <td>No</td>\n",
       "    </tr>\n",
       "    <tr>\n",
       "      <th>4</th>\n",
       "      <td>Germany</td>\n",
       "      <td>40.0</td>\n",
       "      <td>''</td>\n",
       "      <td>Yes</td>\n",
       "    </tr>\n",
       "  </tbody>\n",
       "</table>\n",
       "</div>"
      ],
      "text/plain": [
       "   Country   Age    Salry Purchased\n",
       "0   France  44.0  '72000'        No\n",
       "1    Spain  27.0  '48000'       Yes\n",
       "2  Germany  30.0  '54000'        No\n",
       "3    Spain  38.0  '61000'        No\n",
       "4  Germany  40.0       ''       Yes"
      ]
     },
     "execution_count": 3,
     "metadata": {},
     "output_type": "execute_result"
    }
   ],
   "source": [
    "df_cleaning.head()"
   ]
  },
  {
   "cell_type": "code",
   "execution_count": 4,
   "id": "ffeb74f2-fe51-488d-92ed-d22188624a0d",
   "metadata": {},
   "outputs": [
    {
     "name": "stdout",
     "output_type": "stream",
     "text": [
      "<class 'pandas.core.frame.DataFrame'>\n",
      "RangeIndex: 10 entries, 0 to 9\n",
      "Data columns (total 4 columns):\n",
      " #   Column     Non-Null Count  Dtype  \n",
      "---  ------     --------------  -----  \n",
      " 0   Country    10 non-null     object \n",
      " 1   Age        9 non-null      float64\n",
      " 2   Salry      10 non-null     object \n",
      " 3   Purchased  10 non-null     object \n",
      "dtypes: float64(1), object(3)\n",
      "memory usage: 448.0+ bytes\n"
     ]
    }
   ],
   "source": [
    "df_cleaning.info()"
   ]
  },
  {
   "cell_type": "markdown",
   "id": "ed46aa17-271e-415e-9feb-f23a0b246eeb",
   "metadata": {},
   "source": [
    "### Issues found from preliminary EDA"
   ]
  },
  {
   "cell_type": "markdown",
   "id": "e293fee2-7f9d-45b4-ac59-329e6b61af50",
   "metadata": {},
   "source": [
    "1. Missing value in Age column\n",
    "2. Mispelled column (Salry)\n",
    "3. Incorrect data entry for column Salry\n",
    "4. Incorrect data type for column Salry"
   ]
  },
  {
   "cell_type": "markdown",
   "id": "99568fa2-a046-4b39-9352-6b53fe696eaa",
   "metadata": {},
   "source": [
    "### Impute missing value from Age column"
   ]
  },
  {
   "cell_type": "code",
   "execution_count": 5,
   "id": "bbab00d6-94d6-4769-9858-60e1232eeb68",
   "metadata": {},
   "outputs": [
    {
     "data": {
      "text/plain": [
       "0    44.0\n",
       "1    27.0\n",
       "2    30.0\n",
       "3    38.0\n",
       "4    40.0\n",
       "5    35.0\n",
       "6     NaN\n",
       "7    48.0\n",
       "8    50.0\n",
       "9    37.0\n",
       "Name: Age, dtype: float64"
      ]
     },
     "execution_count": 5,
     "metadata": {},
     "output_type": "execute_result"
    }
   ],
   "source": [
    "df_cleaning['Age']"
   ]
  },
  {
   "cell_type": "code",
   "execution_count": 6,
   "id": "8a455adf-cd74-4c5c-bbda-eac1e62ae66e",
   "metadata": {},
   "outputs": [
    {
     "data": {
      "text/plain": [
       "0    44.000000\n",
       "1    27.000000\n",
       "2    30.000000\n",
       "3    38.000000\n",
       "4    40.000000\n",
       "5    35.000000\n",
       "6    38.777778\n",
       "7    48.000000\n",
       "8    50.000000\n",
       "9    37.000000\n",
       "Name: Age, dtype: float64"
      ]
     },
     "execution_count": 6,
     "metadata": {},
     "output_type": "execute_result"
    }
   ],
   "source": [
    "df_cleaning['Age'].fillna(df_cleaning['Age'].mean())"
   ]
  },
  {
   "cell_type": "code",
   "execution_count": 7,
   "id": "f4011be2-90fd-40ee-839c-f08bac3ac5f5",
   "metadata": {},
   "outputs": [
    {
     "data": {
      "text/plain": [
       "0    44.0\n",
       "1    27.0\n",
       "2    30.0\n",
       "3    38.0\n",
       "4    40.0\n",
       "5    35.0\n",
       "6    39.0\n",
       "7    48.0\n",
       "8    50.0\n",
       "9    37.0\n",
       "Name: Age, dtype: float64"
      ]
     },
     "execution_count": 7,
     "metadata": {},
     "output_type": "execute_result"
    }
   ],
   "source": [
    "df_cleaning['Age'].fillna(round(df_cleaning['Age'].mean()))"
   ]
  },
  {
   "cell_type": "code",
   "execution_count": 8,
   "id": "4bf88760-1bc6-448c-bf44-117769637ae0",
   "metadata": {},
   "outputs": [
    {
     "data": {
      "text/plain": [
       "0    44.0\n",
       "1    27.0\n",
       "2    30.0\n",
       "3    38.0\n",
       "4    40.0\n",
       "5    35.0\n",
       "6    44.0\n",
       "7    48.0\n",
       "8    50.0\n",
       "9    37.0\n",
       "Name: Age, dtype: float64"
      ]
     },
     "execution_count": 8,
     "metadata": {},
     "output_type": "execute_result"
    }
   ],
   "source": [
    "df_cleaning['Age'].fillna(df_cleaning['Age'].mode())"
   ]
  },
  {
   "cell_type": "code",
   "execution_count": 9,
   "id": "45c6bc42-b114-4c10-8ca2-c38dcdc0b472",
   "metadata": {},
   "outputs": [
    {
     "data": {
      "text/plain": [
       "0    44.0\n",
       "1    27.0\n",
       "2    30.0\n",
       "3    38.0\n",
       "4    40.0\n",
       "5    35.0\n",
       "6    38.0\n",
       "7    48.0\n",
       "8    50.0\n",
       "9    37.0\n",
       "Name: Age, dtype: float64"
      ]
     },
     "execution_count": 9,
     "metadata": {},
     "output_type": "execute_result"
    }
   ],
   "source": [
    "df_cleaning['Age'].fillna(df_cleaning['Age'].median())"
   ]
  },
  {
   "cell_type": "code",
   "execution_count": 10,
   "id": "a7dc2831-298d-4656-82d8-befa9834165e",
   "metadata": {},
   "outputs": [
    {
     "data": {
      "text/plain": [
       "1    27.0\n",
       "2    30.0\n",
       "5    35.0\n",
       "9    37.0\n",
       "3    38.0\n",
       "4    40.0\n",
       "0    44.0\n",
       "7    48.0\n",
       "8    50.0\n",
       "6     NaN\n",
       "Name: Age, dtype: float64"
      ]
     },
     "execution_count": 10,
     "metadata": {},
     "output_type": "execute_result"
    }
   ],
   "source": [
    "df_cleaning['Age'].sort_values()"
   ]
  },
  {
   "cell_type": "code",
   "execution_count": 11,
   "id": "784c094e-5689-4315-a4d7-32f419d167e3",
   "metadata": {},
   "outputs": [],
   "source": [
    "df_cleaning['Age'].fillna(round(df_cleaning['Age'].mean()), inplace=True)"
   ]
  },
  {
   "cell_type": "code",
   "execution_count": 12,
   "id": "89cbf59c-17b2-44b6-9ce8-884648b95799",
   "metadata": {},
   "outputs": [
    {
     "data": {
      "text/plain": [
       "0    44.0\n",
       "1    27.0\n",
       "2    30.0\n",
       "3    38.0\n",
       "4    40.0\n",
       "5    35.0\n",
       "6    39.0\n",
       "7    48.0\n",
       "8    50.0\n",
       "9    37.0\n",
       "Name: Age, dtype: float64"
      ]
     },
     "execution_count": 12,
     "metadata": {},
     "output_type": "execute_result"
    }
   ],
   "source": [
    "df_cleaning['Age']"
   ]
  },
  {
   "cell_type": "markdown",
   "id": "7372aab3-ac22-4ed0-a23e-0902c24d25f1",
   "metadata": {},
   "source": [
    "### Rename Salry column"
   ]
  },
  {
   "cell_type": "code",
   "execution_count": 13,
   "id": "1b339af0-6524-42c7-84d2-711a7b544b05",
   "metadata": {},
   "outputs": [],
   "source": [
    "df_cleaning.rename(columns={'Salry':'Salary'}, inplace=True)"
   ]
  },
  {
   "cell_type": "code",
   "execution_count": 14,
   "id": "3a169127-5f9e-4651-9d03-dea5d9765382",
   "metadata": {},
   "outputs": [
    {
     "data": {
      "text/plain": [
       "Index(['Country', 'Age', 'Salary', 'Purchased'], dtype='object')"
      ]
     },
     "execution_count": 14,
     "metadata": {},
     "output_type": "execute_result"
    }
   ],
   "source": [
    "df_cleaning.columns"
   ]
  },
  {
   "cell_type": "markdown",
   "id": "db225ad9-1e9d-4b21-9bc1-251dd3eda3c0",
   "metadata": {},
   "source": [
    "### Cleanse entries in Salary column"
   ]
  },
  {
   "cell_type": "code",
   "execution_count": 15,
   "id": "f61088a2-44f8-4db2-85bf-2ce0812dbfb7",
   "metadata": {},
   "outputs": [
    {
     "data": {
      "text/plain": [
       "0    '72000'\n",
       "1    '48000'\n",
       "2    '54000'\n",
       "3    '61000'\n",
       "4         ''\n",
       "5    '58000'\n",
       "6    '52000'\n",
       "7    '79000'\n",
       "8    '83000'\n",
       "9    '67000'\n",
       "Name: Salary, dtype: object"
      ]
     },
     "execution_count": 15,
     "metadata": {},
     "output_type": "execute_result"
    }
   ],
   "source": [
    "df_cleaning['Salary']"
   ]
  },
  {
   "cell_type": "code",
   "execution_count": 16,
   "id": "77cb48b8-8217-4f62-9cf3-ffea48fd27db",
   "metadata": {},
   "outputs": [],
   "source": [
    "df_cleaning['Salary'] = [i.strip(\"''\") for i in df_cleaning['Salary'].values]"
   ]
  },
  {
   "cell_type": "code",
   "execution_count": 17,
   "id": "f92c68eb-7bb5-4e36-99c2-a8b418598f79",
   "metadata": {},
   "outputs": [
    {
     "name": "stdout",
     "output_type": "stream",
     "text": [
      "<class 'pandas.core.frame.DataFrame'>\n",
      "RangeIndex: 10 entries, 0 to 9\n",
      "Data columns (total 4 columns):\n",
      " #   Column     Non-Null Count  Dtype  \n",
      "---  ------     --------------  -----  \n",
      " 0   Country    10 non-null     object \n",
      " 1   Age        10 non-null     float64\n",
      " 2   Salary     10 non-null     object \n",
      " 3   Purchased  10 non-null     object \n",
      "dtypes: float64(1), object(3)\n",
      "memory usage: 448.0+ bytes\n"
     ]
    }
   ],
   "source": [
    "df_cleaning.info()"
   ]
  },
  {
   "cell_type": "code",
   "execution_count": 18,
   "id": "baa9c3a7-1ab0-4393-88fb-7573ea5a68f3",
   "metadata": {},
   "outputs": [
    {
     "data": {
      "text/plain": [
       "0    False\n",
       "1    False\n",
       "2    False\n",
       "3    False\n",
       "4    False\n",
       "5    False\n",
       "6    False\n",
       "7    False\n",
       "8    False\n",
       "9    False\n",
       "Name: Salary, dtype: bool"
      ]
     },
     "execution_count": 18,
     "metadata": {},
     "output_type": "execute_result"
    }
   ],
   "source": [
    "df_cleaning['Salary'].isna()"
   ]
  },
  {
   "cell_type": "code",
   "execution_count": 19,
   "id": "7f3de55f-a8e5-4d7f-878e-47bbef3a97bb",
   "metadata": {},
   "outputs": [],
   "source": [
    "df_cleaning['Salary'].replace(\"\",np.nan, inplace=True)"
   ]
  },
  {
   "cell_type": "markdown",
   "id": "e4fc8963-6c42-481c-9d48-362bb51b7e5d",
   "metadata": {},
   "source": [
    "### Change data type of Salary column"
   ]
  },
  {
   "cell_type": "code",
   "execution_count": 20,
   "id": "5b0f9c44-5b4f-4d07-9844-4f79a8dd30b4",
   "metadata": {},
   "outputs": [
    {
     "data": {
      "text/plain": [
       "0    72000\n",
       "1    48000\n",
       "2    54000\n",
       "3    61000\n",
       "4      NaN\n",
       "5    58000\n",
       "6    52000\n",
       "7    79000\n",
       "8    83000\n",
       "9    67000\n",
       "Name: Salary, dtype: object"
      ]
     },
     "execution_count": 20,
     "metadata": {},
     "output_type": "execute_result"
    }
   ],
   "source": [
    "df_cleaning['Salary']"
   ]
  },
  {
   "cell_type": "code",
   "execution_count": 26,
   "id": "658f68e6-6ae0-4750-aa16-dc77488b2651",
   "metadata": {},
   "outputs": [],
   "source": [
    "df_cleaning['Salary'] = df_cleaning['Salary'].astype('float')"
   ]
  },
  {
   "cell_type": "markdown",
   "id": "681fa8e2-83f8-4c98-8272-d64e1ca8da0d",
   "metadata": {},
   "source": [
    "### Impute 0 with mean of salaries"
   ]
  },
  {
   "cell_type": "code",
   "execution_count": 30,
   "id": "740f0470-5a03-469d-9e2e-8e05fc17e9f1",
   "metadata": {},
   "outputs": [],
   "source": [
    "df_cleaning['Salary'].fillna(round(df_cleaning['Salary'].mean()), inplace=True)"
   ]
  },
  {
   "cell_type": "code",
   "execution_count": 31,
   "id": "ad553f08-56f0-4e9b-a33e-73bdc4bc308c",
   "metadata": {},
   "outputs": [
    {
     "data": {
      "text/html": [
       "<div>\n",
       "<style scoped>\n",
       "    .dataframe tbody tr th:only-of-type {\n",
       "        vertical-align: middle;\n",
       "    }\n",
       "\n",
       "    .dataframe tbody tr th {\n",
       "        vertical-align: top;\n",
       "    }\n",
       "\n",
       "    .dataframe thead th {\n",
       "        text-align: right;\n",
       "    }\n",
       "</style>\n",
       "<table border=\"1\" class=\"dataframe\">\n",
       "  <thead>\n",
       "    <tr style=\"text-align: right;\">\n",
       "      <th></th>\n",
       "      <th>Country</th>\n",
       "      <th>Age</th>\n",
       "      <th>Salary</th>\n",
       "      <th>Purchased</th>\n",
       "    </tr>\n",
       "  </thead>\n",
       "  <tbody>\n",
       "    <tr>\n",
       "      <th>0</th>\n",
       "      <td>France</td>\n",
       "      <td>44.0</td>\n",
       "      <td>72000.0</td>\n",
       "      <td>No</td>\n",
       "    </tr>\n",
       "    <tr>\n",
       "      <th>1</th>\n",
       "      <td>Spain</td>\n",
       "      <td>27.0</td>\n",
       "      <td>48000.0</td>\n",
       "      <td>Yes</td>\n",
       "    </tr>\n",
       "    <tr>\n",
       "      <th>2</th>\n",
       "      <td>Germany</td>\n",
       "      <td>30.0</td>\n",
       "      <td>54000.0</td>\n",
       "      <td>No</td>\n",
       "    </tr>\n",
       "    <tr>\n",
       "      <th>3</th>\n",
       "      <td>Spain</td>\n",
       "      <td>38.0</td>\n",
       "      <td>61000.0</td>\n",
       "      <td>No</td>\n",
       "    </tr>\n",
       "    <tr>\n",
       "      <th>4</th>\n",
       "      <td>Germany</td>\n",
       "      <td>40.0</td>\n",
       "      <td>63778.0</td>\n",
       "      <td>Yes</td>\n",
       "    </tr>\n",
       "    <tr>\n",
       "      <th>5</th>\n",
       "      <td>France</td>\n",
       "      <td>35.0</td>\n",
       "      <td>58000.0</td>\n",
       "      <td>Yes</td>\n",
       "    </tr>\n",
       "    <tr>\n",
       "      <th>6</th>\n",
       "      <td>Spain</td>\n",
       "      <td>39.0</td>\n",
       "      <td>52000.0</td>\n",
       "      <td>No</td>\n",
       "    </tr>\n",
       "    <tr>\n",
       "      <th>7</th>\n",
       "      <td>France</td>\n",
       "      <td>48.0</td>\n",
       "      <td>79000.0</td>\n",
       "      <td>Yes</td>\n",
       "    </tr>\n",
       "    <tr>\n",
       "      <th>8</th>\n",
       "      <td>Germany</td>\n",
       "      <td>50.0</td>\n",
       "      <td>83000.0</td>\n",
       "      <td>No</td>\n",
       "    </tr>\n",
       "    <tr>\n",
       "      <th>9</th>\n",
       "      <td>France</td>\n",
       "      <td>37.0</td>\n",
       "      <td>67000.0</td>\n",
       "      <td>Yes</td>\n",
       "    </tr>\n",
       "  </tbody>\n",
       "</table>\n",
       "</div>"
      ],
      "text/plain": [
       "   Country   Age   Salary Purchased\n",
       "0   France  44.0  72000.0        No\n",
       "1    Spain  27.0  48000.0       Yes\n",
       "2  Germany  30.0  54000.0        No\n",
       "3    Spain  38.0  61000.0        No\n",
       "4  Germany  40.0  63778.0       Yes\n",
       "5   France  35.0  58000.0       Yes\n",
       "6    Spain  39.0  52000.0        No\n",
       "7   France  48.0  79000.0       Yes\n",
       "8  Germany  50.0  83000.0        No\n",
       "9   France  37.0  67000.0       Yes"
      ]
     },
     "execution_count": 31,
     "metadata": {},
     "output_type": "execute_result"
    }
   ],
   "source": [
    "df_cleaning"
   ]
  },
  {
   "cell_type": "code",
   "execution_count": null,
   "id": "fbb0963b-00bc-4b60-9e28-5e79c0778c93",
   "metadata": {},
   "outputs": [],
   "source": []
  }
 ],
 "metadata": {
  "kernelspec": {
   "display_name": "Python 3",
   "language": "python",
   "name": "python3"
  },
  "language_info": {
   "codemirror_mode": {
    "name": "ipython",
    "version": 3
   },
   "file_extension": ".py",
   "mimetype": "text/x-python",
   "name": "python",
   "nbconvert_exporter": "python",
   "pygments_lexer": "ipython3",
   "version": "3.8.8"
  }
 },
 "nbformat": 4,
 "nbformat_minor": 5
}
